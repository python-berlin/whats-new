{
 "cells": [
  {
   "cell_type": "markdown",
   "metadata": {
    "slideshow": {
     "slide_type": "slide"
    }
   },
   "source": [
    "# What's new in Python as of 11 March 2021"
   ]
  },
  {
   "cell_type": "markdown",
   "metadata": {
    "slideshow": {
     "slide_type": "slide"
    }
   },
   "source": [
    "## Python 3.10.0a6 is out"
   ]
  },
  {
   "cell_type": "markdown",
   "metadata": {
    "slideshow": {
     "slide_type": "fragment"
    }
   },
   "source": [
    "see also: [What’s New In Python 3.10](https://docs.python.org/3.10/whatsnew/3.10.html)"
   ]
  },
  {
   "cell_type": "markdown",
   "metadata": {
    "slideshow": {
     "slide_type": "subslide"
    }
   },
   "source": [
    "### Parenthesized context managers\n",
    "\n",
    "  Using enclosing parentheses for continuation across multiple lines in context managers is now supported, e.g.:\n",
    "  ```python\n",
    "  with (CtxManager1() as example,\n",
    "        CtxManager2()):\n",
    "      ...\n",
    "  ```"
   ]
  },
  {
   "cell_type": "markdown",
   "metadata": {
    "slideshow": {
     "slide_type": "subslide"
    }
   },
   "source": [
    "### PEP 634: Structural Pattern Matching\n",
    "\n",
    "  see also: [New: Pattern Matching in Python 3.10](https://cusy.io/en/blog/new-pattern-matching-in-python-3.10)"
   ]
  },
  {
   "cell_type": "markdown",
   "metadata": {
    "slideshow": {
     "slide_type": "subslide"
    }
   },
   "source": [
    "### New features related to type annotations"
   ]
  },
  {
   "cell_type": "markdown",
   "metadata": {
    "slideshow": {
     "slide_type": "fragment"
    }
   },
   "source": [
    "#### [PEP 563](https://www.python.org/dev/peps/pep-0563): Postponed evaluation of annotations becomes default\n",
    "\n",
    "The `from __future__ import annotations` directive becomes default."
   ]
  },
  {
   "cell_type": "markdown",
   "metadata": {
    "slideshow": {
     "slide_type": "fragment"
    }
   },
   "source": [
    "#### [PEP 604](https://www.python.org/dev/peps/pep-0604): New Type Union Operator\n",
    "\n",
    "A new type union operator was introduced which enables the syntax `X | Y`. In previous versions of Python, to apply a type hint for functions accepting arguments of multiple types, [`typing.Union`](https://docs.python.org/3.10/library/typing.html#typing.Union) was used:\n",
    "```python\n",
    "def square(number: Union[int, float]) -> Union[int, float]:\n",
    "    return number ** 2\n",
    "```\n",
    "With the [Union Type](https://docs.python.org/3.10/library/stdtypes.html#types-union) type hints can now be written with:\n",
    "```python\n",
    "def square(number: int | float) -> int | float:\n",
    "    return number ** 2\n",
    "```"
   ]
  },
  {
   "cell_type": "markdown",
   "metadata": {
    "slideshow": {
     "slide_type": "fragment"
    }
   },
   "source": [
    "#### [PEP 612](https://www.python.org/dev/peps/pep-0612): Parameter Specification Variables\n",
    "\n",
    "Two new options improve the information provided to static type checkers:\n",
    "\n",
    "* the parameter specification variable [`typing.ParamSpec`](https://docs.python.org/3.10/library/typing.html#typing.ParamSpec)\n",
    "* the [`typing.Concatenate`](https://docs.python.org/3.10/library/typing.html#typing.Concatenate) operator"
   ]
  },
  {
   "cell_type": "markdown",
   "metadata": {
    "slideshow": {
     "slide_type": "fragment"
    }
   },
   "source": [
    "#### [PEP 613](https://www.python.org/dev/peps/pep-0613): TypeAlias Annotation\n",
    "\n",
    "Now the [`typing`](https://docs.python.org/3.10/library/typing.html#module-typing) module has a special annotation `TypeAlias`, e.g.\n",
    "```python\n",
    "StrCache: TypeAlias = 'Cache[str]'\n",
    "````"
   ]
  },
  {
   "cell_type": "markdown",
   "metadata": {
    "slideshow": {
     "slide_type": "slide"
    }
   },
   "source": [
    "## GeoPython 1–2 April 2021\n",
    "\n",
    "* Draft Schedule: https://2021.geopython.net/schedule.html"
   ]
  },
  {
   "cell_type": "markdown",
   "metadata": {
    "slideshow": {
     "slide_type": "slide"
    }
   },
   "source": [
    "## Python turns 30, the Python Software Foundation (PSF) 20!"
   ]
  },
  {
   "cell_type": "markdown",
   "metadata": {
    "slideshow": {
     "slide_type": "subslide"
    }
   },
   "source": [
    "### [PSF March Membership Drive](https://www.python.org/psf/membership/)\n",
    "\n",
    "The goal is 2,000 new members in 30 days!"
   ]
  },
  {
   "cell_type": "markdown",
   "metadata": {
    "slideshow": {
     "slide_type": "subslide"
    }
   },
   "source": [
    "### [The *new* PSF Sponsorship Program](https://www.python.org/psf/sponsorship-new/)\n",
    "\n",
    "  Typically, the PSF generates 65% of its turnover from PyCon US. With Covid-19 in 2020 and 2021, the Foundation expects sales to be USD 1.2 million lower."
   ]
  },
  {
   "cell_type": "markdown",
   "metadata": {
    "slideshow": {
     "slide_type": "slide"
    }
   },
   "source": [
    "## Python Developers Survey 2020 Results\n",
    "\n",
    "* https://www.jetbrains.com/lp/python-developers-survey-2020/"
   ]
  },
  {
   "cell_type": "markdown",
   "metadata": {
    "slideshow": {
     "slide_type": "subslide"
    }
   },
   "source": [
    "* 85% use Python as their main programming language."
   ]
  },
  {
   "cell_type": "markdown",
   "metadata": {
    "slideshow": {
     "slide_type": "subslide"
    }
   },
   "source": [
    "* What do you use Python for?\n",
    "  * 55% Data analysis (-4%)\n",
    "  * 50% Web development (-1%)\n",
    "  * 40% Machine learning (±0%)\n",
    "  * 38% DevOps (-1%)\n",
    "  * 36% Web parsers/scrapers/crawlers (-1%)\n",
    "  * 29% Software testing (-2%)"
   ]
  },
  {
   "cell_type": "markdown",
   "metadata": {
    "slideshow": {
     "slide_type": "subslide"
    }
   },
   "source": [
    "* Do you consider yourself a Data Scientist?\n",
    "  * Yes: 63%\n",
    "  * No: 32%\n",
    "  * Other: 5%"
   ]
  },
  {
   "cell_type": "markdown",
   "metadata": {
    "slideshow": {
     "slide_type": "subslide"
    }
   },
   "source": [
    "* Python 3 vs Python 2\n",
    "  * Python 3: 94%\n",
    "  * Python 2: 6%"
   ]
  },
  {
   "cell_type": "markdown",
   "metadata": {
    "slideshow": {
     "slide_type": "subslide"
    }
   },
   "source": [
    "* Python installation and upgrade\n",
    "  * python.org: 34%\n",
    "  * OS-provided: 33%\n",
    "  * Anaconda: 19%\n",
    "  * Docker containers: 17%\n",
    "  * pyenv: 15%"
   ]
  },
  {
   "cell_type": "markdown",
   "metadata": {
    "slideshow": {
     "slide_type": "fragment"
    }
   },
   "source": [
    "  Windows users tend to install Python from python.org, while Linux and macOS users usually use OS-provided Python, pyenv, or Docker containers."
   ]
  },
  {
   "cell_type": "markdown",
   "metadata": {
    "slideshow": {
     "slide_type": "subslide"
    }
   },
   "source": [
    "* Python environment isolation\n",
    "  * Virtualenv: 54%\n",
    "  * Docker: 32%\n",
    "  * Conda: 22%\n",
    "  * Pipenv: 18%\n",
    "  * Poetry: 8%"
   ]
  },
  {
   "cell_type": "markdown",
   "metadata": {
    "slideshow": {
     "slide_type": "fragment"
    }
   },
   "source": [
    "  There are interesting dependencies between the IDEs and the environment isolation tools:\n",
    "  \n",
    "  * More than a half of the users of Jupyter Notebook and JupyterLab choose Conda.\n",
    "  * Conda’s share among users of other editors is only about 20%."
   ]
  },
  {
   "cell_type": "markdown",
   "metadata": {
    "slideshow": {
     "slide_type": "subslide"
    }
   },
   "source": [
    "  \n",
    "* Favorite Python features\n",
    "  * Simple syntax, syntactic shugar, easy to learn: 37%\n",
    "  * Easy to write & read code, high level language: 30%\n",
    "  * List comprehension, generator: 21%\n",
    "  * Versatility, libraries for any problem: 21%\n",
    "  * Dynamic typing, duck typing: 20%\n",
    "  * Strong standard libraries: 20%\n",
    "  * Large community, libraries support, clear documentation: 14%"
   ]
  },
  {
   "cell_type": "markdown",
   "metadata": {
    "slideshow": {
     "slide_type": "subslide"
    }
   },
   "source": [
    "* Desired Python features\n",
    "  * Static typing, strict type hinting: 21%\n",
    "  * Performance improvements: 20%\n",
    "  * Better concurrency & parallelism: 15%\n",
    "  * Pattern matching, switch statement: 12%"
   ]
  },
  {
   "cell_type": "markdown",
   "metadata": {
    "slideshow": {
     "slide_type": "slide"
    }
   },
   "source": [
    "## Python on Mars\n",
    "\n",
    "NASA’s Perseverance Rover landed safely on Mars"
   ]
  },
  {
   "cell_type": "markdown",
   "metadata": {
    "slideshow": {
     "slide_type": "fragment"
    }
   },
   "source": [
    "* [Website of the Jet Propulsion Laboratory (JPL)](https://www.jpl.nasa.gov/)\n",
    "\n",
    "  created with\n",
    "  \n",
    "  * [Wagtail CMS](https://wagtail.io/)\n",
    "  * Vue.js\n",
    "  "
   ]
  },
  {
   "cell_type": "markdown",
   "metadata": {
    "slideshow": {
     "slide_type": "fragment"
    }
   },
   "source": [
    "* [F´ Flight Software & Embedded Systems Framework](https://nasa.github.io/fprime/)\n",
    "\n",
    "  To install F´, enter:\n",
    "\n",
    "  ```\n",
    "  git clone https://github.com/nasa/fprime.git\n",
    "  cd fprime\n",
    "  pip install --upgrade wheel setuptools pip\n",
    "  pip install Fw/Python Gds/\n",
    "  ```"
   ]
  },
  {
   "cell_type": "markdown",
   "metadata": {
    "slideshow": {
     "slide_type": "fragment"
    }
   },
   "source": [
    "* 44.8% C++\n",
    "* 16.0% Python"
   ]
  }
 ],
 "metadata": {
  "celltoolbar": "Slideshow",
  "kernelspec": {
   "display_name": "Python 3.9.0",
   "language": "python",
   "name": "python-390"
  },
  "language_info": {
   "codemirror_mode": {
    "name": "ipython",
    "version": 3
   },
   "file_extension": ".py",
   "mimetype": "text/x-python",
   "name": "python",
   "nbconvert_exporter": "python",
   "pygments_lexer": "ipython3",
   "version": "3.9.0"
  },
  "latex_envs": {
   "LaTeX_envs_menu_present": true,
   "autoclose": false,
   "autocomplete": true,
   "bibliofile": "biblio.bib",
   "cite_by": "apalike",
   "current_citInitial": 1,
   "eqLabelWithNumbers": true,
   "eqNumInitial": 1,
   "hotkeys": {
    "equation": "Ctrl-E",
    "itemize": "Ctrl-I"
   },
   "labels_anchors": false,
   "latex_user_defs": false,
   "report_style_numbering": false,
   "user_envs_cfg": false
  }
 },
 "nbformat": 4,
 "nbformat_minor": 4
}
