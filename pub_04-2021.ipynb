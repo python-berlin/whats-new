{
 "cells": [
  {
   "cell_type": "markdown",
   "metadata": {
    "slideshow": {
     "slide_type": "slide"
    }
   },
   "source": [
    "# What’s new in Python as of 8 April 2021"
   ]
  },
  {
   "cell_type": "markdown",
   "metadata": {
    "slideshow": {
     "slide_type": "slide"
    }
   },
   "source": [
    "## Python 3.9.3 and 3.8.9 are now available\n",
    "\n",
    "These are early releases due to security content addressing CVE-2021-3449, CVE-2021-3450 and CVE-2021-3426, among others. The update is recommended for all users.\n",
    "\n",
    "See also: [Python 3.9.3 and 3.8.9 are now available](https://discuss.python.org/t/python-3-9-3-and-3-8-9-are-now-available/)\n",
    "\n",
    "Python 3.9.4 hotfix restores compatibility with C extensions built on 3.9.0–3.9.2."
   ]
  },
  {
   "cell_type": "markdown",
   "metadata": {
    "slideshow": {
     "slide_type": "slide"
    }
   },
   "source": [
    "## setuptools-scm 6 is out\n",
    "\n",
    "* drops egg builds, using wheels\n",
    "* drops old setuptools, setuptools>45 supports wheels as `setup_requires`\n",
    "* drops depricated Python versions (needs Python>=3.6)\n",
    "* adds calendar versioning (calver)\n",
    "\n",
    "See also: [setuptools_scm](https://pypi.org/project/setuptools-scm/6.0.0/)"
   ]
  },
  {
   "cell_type": "markdown",
   "metadata": {
    "slideshow": {
     "slide_type": "slide"
    }
   },
   "source": [
    "## Binary wheels for Alpine Linux\n",
    "\n",
    "PyPI and pip may support binary wheels for Alpine Linux in a couple of months.\n",
    "\n",
    "See also: [PEP 656 -- Platform Tag for Linux Distributions Using Musl](https://www.python.org/dev/peps/pep-0656/)"
   ]
  },
  {
   "cell_type": "markdown",
   "metadata": {
    "slideshow": {
     "slide_type": "slide"
    }
   },
   "source": [
    "## GeoPython 1–2 April 2021\n",
    "\n",
    "* Schedule: https://2021.geopython.net/schedule.html"
   ]
  }
 ],
 "metadata": {
  "celltoolbar": "Slideshow",
  "kernelspec": {
   "display_name": "Python 3.9.0",
   "language": "python",
   "name": "python-390"
  },
  "language_info": {
   "codemirror_mode": {
    "name": "ipython",
    "version": 3
   },
   "file_extension": ".py",
   "mimetype": "text/x-python",
   "name": "python",
   "nbconvert_exporter": "python",
   "pygments_lexer": "ipython3",
   "version": "3.9.0"
  },
  "latex_envs": {
   "LaTeX_envs_menu_present": true,
   "autoclose": false,
   "autocomplete": true,
   "bibliofile": "biblio.bib",
   "cite_by": "apalike",
   "current_citInitial": 1,
   "eqLabelWithNumbers": true,
   "eqNumInitial": 1,
   "hotkeys": {
    "equation": "Ctrl-E",
    "itemize": "Ctrl-I"
   },
   "labels_anchors": false,
   "latex_user_defs": false,
   "report_style_numbering": false,
   "user_envs_cfg": false
  }
 },
 "nbformat": 4,
 "nbformat_minor": 4
}
